{
 "cells": [
  {
   "cell_type": "markdown",
   "metadata": {},
   "source": [
    "### Part 2 \n",
    "### Classifying stream of tweets using the trained model "
   ]
  },
  {
   "cell_type": "markdown",
   "metadata": {},
   "source": [
    "In this section of the project, we are using our classifier model to classify stream of tweets. \n",
    "\n",
    "Steps include :\n",
    "\n",
    "i. Pull data from twitter using twitter api   \n",
    "ii. Preprocess data and extract features so that it can be easily classified by our model    \n",
    "iii.Classify data using our model\n",
    "iv. Save tweets and their predicted polarity to sql database. \n",
    "\n",
    "The detailed explaination of each code block is provided above the block"
   ]
  },
  {
   "cell_type": "markdown",
   "metadata": {},
   "source": [
    "<b>Loading the required packages"
   ]
  },
  {
   "cell_type": "code",
   "execution_count": 9,
   "metadata": {},
   "outputs": [],
   "source": [
    "#tweepy is python library to access twitter api\n",
    "import tweepy\n",
    "from tweepy import API\n",
    "from tweepy import Cursor\n",
    "from tweepy import OAuthHandler\n",
    "from tweepy import Stream\n",
    "from tweepy.streaming import StreamListener\n",
    "\n",
    "\n",
    "import numpy as np\n",
    "import pandas as pd\n",
    "import socket "
   ]
  },
  {
   "cell_type": "markdown",
   "metadata": {},
   "source": [
    "<b>We are using Findspark to add a startup file so that environment variables are properly set. "
   ]
  },
  {
   "cell_type": "code",
   "execution_count": 10,
   "metadata": {},
   "outputs": [],
   "source": [
    "import findspark\n",
    "findspark.init('C:\\Users\\samir\\Desktop\\spark\\spark-2.4.7-bin-hadoop2.7')"
   ]
  },
  {
   "cell_type": "markdown",
   "metadata": {},
   "source": [
    "<b>Import pysark libraries"
   ]
  },
  {
   "cell_type": "code",
   "execution_count": 11,
   "metadata": {},
   "outputs": [],
   "source": [
    "import pyspark\n",
    "from pyspark.sql import SparkSession\n",
    "from pyspark.sql.functions import col\n",
    "from pyspark.ml.feature import HashingTF, Tokenizer, StopWordsRemover\n",
    "from pyspark.ml.classification import LogisticRegression"
   ]
  },
  {
   "cell_type": "markdown",
   "metadata": {},
   "source": [
    "### Accessing tweets\n",
    "\n",
    "To access stream of tweets using twitter api, we first need to authenticate to a twitter developer account. There are 4 values - access token, access token secret, consumer key and consumer secret which are unique to each individual's account and are used to serve this purpose. These values are stored in variables as shown. "
   ]
  },
  {
   "cell_type": "code",
   "execution_count": 12,
   "metadata": {},
   "outputs": [],
   "source": [
    "access_token = <>\n",
    "access_token_secret = <>\n",
    "consumer_key = <>\n",
    "consumer_secret= <>"
   ]
  },
  {
   "cell_type": "markdown",
   "metadata": {},
   "source": [
    "<b>Creating a spark session with the user defined appName tweetsentimentalanalysis. \n"
   ]
  },
  {
   "cell_type": "code",
   "execution_count": 13,
   "metadata": {},
   "outputs": [],
   "source": [
    "spark = SparkSession.builder.appName('tweetsentimentanalysis').getOrCreate()\n",
    "sc =spark.sparkContext"
   ]
  },
  {
   "cell_type": "markdown",
   "metadata": {},
   "source": [
    "<b>We have used OAuthHandler class of tweepy to set the credentials that needs to be used in API calls to twitter."
   ]
  },
  {
   "cell_type": "code",
   "execution_count": 14,
   "metadata": {},
   "outputs": [],
   "source": [
    "auth = tweepy.OAuthHandler(consumer_key,consumer_secret)\n",
    "auth.set_access_token(access_token,access_token_secret)\n",
    "api = tweepy.API(auth)"
   ]
  },
  {
   "cell_type": "markdown",
   "metadata": {},
   "source": [
    "<b>Once authentication is done, we are accessing about 15 random public tweets and printing it out. It can be seen that it has all the information that a tweet can have, such as it consists of links, emojis, hashtags etc."
   ]
  },
  {
   "cell_type": "code",
   "execution_count": 29,
   "metadata": {},
   "outputs": [
    {
     "name": "stdout",
     "output_type": "stream",
     "text": [
      "RT @strongblacklead: Welcome to the beginning of another week, y’all! 😂 https://t.co/0ZTMHMrULX\n",
      "Tune in as the First Lady and I discuss the American Families Plan at Tidewater Community College. https://t.co/cUdNDi2DqY\n",
      "Happening Now: The President and First Lady deliver remarks at Tidewater Community College. https://t.co/JG6hAJIFPz\n",
      "The Marvel family is saddened to hear of the passing of artist John Paul Leon. His bold and iconic style made him a… https://t.co/M8VKMGo1NM\n",
      "It turns out that the people like the For The People Act. \n",
      "\n",
      "https://t.co/UaH9dqdmNz\n",
      "RT @Grace4NY: Across the country, Asian Americans are doing their part to protect and uplift our communities. Read about 6 of them here: ht…\n",
      "Captain Marvel x @StephenCurry30 \n",
      "Doctor Strange x @Money23Green \n",
      "Black Panther x @22wiggins \n",
      "Captain America x… https://t.co/msSVjOGHn8\n",
      "Captain Marvel x @StephenCurry30 \n",
      "Doctor Strange x @Money23Green \n",
      "Black Panther x @22wiggins \n",
      "Captain America x… https://t.co/crBkbJQhAq\n",
      "RT @nasahqphoto: Former Senator Bill Nelson was ceremonially sworn in as the 14th @NASA Administrator today by @VP Kamala Harris. Check out…\n",
      "“...he was a visionary leader, decades ahead of his time trying to pull the country toward renewable energy, climat… https://t.co/8h04Jxnwru\n",
      "Shadow and Bone star Jessie Mei Li looks back on Alina's first kiss with General Kirigan and analyzes how she broug… https://t.co/2ebdDkAKOp\n",
      "When I think about climate change, I think about jobs.\n",
      "\n",
      "There's no reason why wind turbine blades can't be built in… https://t.co/gkanzHKfWQ\n",
      "RT @Oprah: To prepare for my interview with @TheElliotPage, I watched @disclosure_doc, a documentary on the history of trans images in film…\n",
      "May is #AAPIHeritageMonth—a powerfully important opportunity to celebrate AAPI culture and history, and to commit t… https://t.co/mtzwfhZZ1O\n",
      "The GOP's alternate reality is a threat to our democracy.\n",
      "\n",
      "https://t.co/xEsr0Rl1j0\n"
     ]
    }
   ],
   "source": [
    "public_tweet = api.home_timeline(count=15)\n",
    "for tweet in public_tweet:\n",
    "    print(tweet.text)"
   ]
  },
  {
   "cell_type": "markdown",
   "metadata": {},
   "source": [
    "<b> We are creating a dataframe with below mentioned columns. This is done based on the format of data that we receive by twitter api call"
   ]
  },
  {
   "cell_type": "code",
   "execution_count": 30,
   "metadata": {},
   "outputs": [],
   "source": [
    "df = pd.DataFrame(columns = ['Tweets', 'User', 'User_statuses_count', \n",
    "                             'user_followers', 'User_location', 'User_verified',\n",
    "                             'fav_count', 'rt_count', 'tweet_date'])"
   ]
  },
  {
   "cell_type": "markdown",
   "metadata": {},
   "source": [
    "<b> We are looping over all the tweets and saving data to the dataframe- 'df' that we created above."
   ]
  },
  {
   "cell_type": "code",
   "execution_count": 39,
   "metadata": {},
   "outputs": [],
   "source": [
    "i = 0\n",
    "for tweet in public_tweet:\n",
    "    df.loc[i, 'Tweets'] = tweet.text\n",
    "    df.loc[i, 'User'] = tweet.user.name\n",
    "    df.loc[i, 'User_statuses_count'] = tweet.user.statuses_count\n",
    "    df.loc[i, 'user_followers'] = tweet.user.followers_count\n",
    "    df.loc[i, 'User_location'] = tweet.user.location\n",
    "    df.loc[i, 'User_verified'] = tweet.user.verified\n",
    "    df.loc[i, 'fav_count'] = tweet.favorite_count\n",
    "    df.loc[i, 'rt_count'] = tweet.retweet_count\n",
    "    df.loc[i, 'tweet_date'] = tweet.created_at\n",
    "    i+=1\n",
    "    if i == 20:\n",
    "        break\n",
    "    else:\n",
    "        pass"
   ]
  },
  {
   "cell_type": "markdown",
   "metadata": {},
   "source": [
    "<b>The code below prints out first five row of random public tweets that are accessed. "
   ]
  },
  {
   "cell_type": "code",
   "execution_count": 40,
   "metadata": {},
   "outputs": [
    {
     "data": {
      "text/html": [
       "<div>\n",
       "<style scoped>\n",
       "    .dataframe tbody tr th:only-of-type {\n",
       "        vertical-align: middle;\n",
       "    }\n",
       "\n",
       "    .dataframe tbody tr th {\n",
       "        vertical-align: top;\n",
       "    }\n",
       "\n",
       "    .dataframe thead th {\n",
       "        text-align: right;\n",
       "    }\n",
       "</style>\n",
       "<table border=\"1\" class=\"dataframe\">\n",
       "  <thead>\n",
       "    <tr style=\"text-align: right;\">\n",
       "      <th></th>\n",
       "      <th>Tweets</th>\n",
       "      <th>User</th>\n",
       "      <th>User_statuses_count</th>\n",
       "      <th>user_followers</th>\n",
       "      <th>User_location</th>\n",
       "      <th>User_verified</th>\n",
       "      <th>fav_count</th>\n",
       "      <th>rt_count</th>\n",
       "      <th>tweet_date</th>\n",
       "    </tr>\n",
       "  </thead>\n",
       "  <tbody>\n",
       "    <tr>\n",
       "      <th>0</th>\n",
       "      <td>RT @strongblacklead: Welcome to the beginning ...</td>\n",
       "      <td>Netflix</td>\n",
       "      <td>38633</td>\n",
       "      <td>11692568</td>\n",
       "      <td>California, USA</td>\n",
       "      <td>True</td>\n",
       "      <td>0</td>\n",
       "      <td>30</td>\n",
       "      <td>2021-05-03 17:36:42</td>\n",
       "    </tr>\n",
       "    <tr>\n",
       "      <th>1</th>\n",
       "      <td>Tune in as the First Lady and I discuss the Am...</td>\n",
       "      <td>President Biden</td>\n",
       "      <td>645</td>\n",
       "      <td>10552082</td>\n",
       "      <td></td>\n",
       "      <td>True</td>\n",
       "      <td>2137</td>\n",
       "      <td>384</td>\n",
       "      <td>2021-05-03 17:18:58</td>\n",
       "    </tr>\n",
       "    <tr>\n",
       "      <th>2</th>\n",
       "      <td>Happening Now: The President and First Lady de...</td>\n",
       "      <td>The White House</td>\n",
       "      <td>916</td>\n",
       "      <td>5216884</td>\n",
       "      <td>United States of America</td>\n",
       "      <td>True</td>\n",
       "      <td>1671</td>\n",
       "      <td>347</td>\n",
       "      <td>2021-05-03 17:16:36</td>\n",
       "    </tr>\n",
       "    <tr>\n",
       "      <th>3</th>\n",
       "      <td>The Marvel family is saddened to hear of the p...</td>\n",
       "      <td>Marvel Entertainment</td>\n",
       "      <td>57962</td>\n",
       "      <td>11167843</td>\n",
       "      <td>New York, NY</td>\n",
       "      <td>True</td>\n",
       "      <td>2268</td>\n",
       "      <td>285</td>\n",
       "      <td>2021-05-03 17:13:45</td>\n",
       "    </tr>\n",
       "    <tr>\n",
       "      <th>4</th>\n",
       "      <td>It turns out that the people like the For The ...</td>\n",
       "      <td>Hillary Clinton</td>\n",
       "      <td>12674</td>\n",
       "      <td>30985420</td>\n",
       "      <td>New York, NY</td>\n",
       "      <td>True</td>\n",
       "      <td>1733</td>\n",
       "      <td>354</td>\n",
       "      <td>2021-05-03 16:55:39</td>\n",
       "    </tr>\n",
       "  </tbody>\n",
       "</table>\n",
       "</div>"
      ],
      "text/plain": [
       "                                              Tweets                  User  \\\n",
       "0  RT @strongblacklead: Welcome to the beginning ...               Netflix   \n",
       "1  Tune in as the First Lady and I discuss the Am...       President Biden   \n",
       "2  Happening Now: The President and First Lady de...       The White House   \n",
       "3  The Marvel family is saddened to hear of the p...  Marvel Entertainment   \n",
       "4  It turns out that the people like the For The ...       Hillary Clinton   \n",
       "\n",
       "  User_statuses_count user_followers             User_location User_verified  \\\n",
       "0               38633       11692568           California, USA          True   \n",
       "1                 645       10552082                                    True   \n",
       "2                 916        5216884  United States of America          True   \n",
       "3               57962       11167843              New York, NY          True   \n",
       "4               12674       30985420              New York, NY          True   \n",
       "\n",
       "  fav_count rt_count           tweet_date  \n",
       "0         0       30  2021-05-03 17:36:42  \n",
       "1      2137      384  2021-05-03 17:18:58  \n",
       "2      1671      347  2021-05-03 17:16:36  \n",
       "3      2268      285  2021-05-03 17:13:45  \n",
       "4      1733      354  2021-05-03 16:55:39  "
      ]
     },
     "execution_count": 40,
     "metadata": {},
     "output_type": "execute_result"
    }
   ],
   "source": [
    "df.head()"
   ]
  },
  {
   "cell_type": "markdown",
   "metadata": {},
   "source": [
    "<b> We are using command below to get dataframe columns, dtype, memory usage and other information"
   ]
  },
  {
   "cell_type": "code",
   "execution_count": 42,
   "metadata": {},
   "outputs": [
    {
     "name": "stdout",
     "output_type": "stream",
     "text": [
      "<class 'pandas.core.frame.DataFrame'>\n",
      "Int64Index: 15 entries, 0 to 14\n",
      "Data columns (total 9 columns):\n",
      "Tweets                 15 non-null object\n",
      "User                   15 non-null object\n",
      "User_statuses_count    15 non-null object\n",
      "user_followers         15 non-null object\n",
      "User_location          15 non-null object\n",
      "User_verified          15 non-null object\n",
      "fav_count              15 non-null object\n",
      "rt_count               15 non-null object\n",
      "tweet_date             15 non-null object\n",
      "dtypes: object(9)\n",
      "memory usage: 1.8+ KB\n"
     ]
    }
   ],
   "source": [
    "df.info()"
   ]
  },
  {
   "cell_type": "markdown",
   "metadata": {},
   "source": [
    "<b> We need to convert pandas dataframe to spark dataframe using sql context. This is done so that we can use our spark model to predict polarity. "
   ]
  },
  {
   "cell_type": "code",
   "execution_count": 43,
   "metadata": {},
   "outputs": [],
   "source": [
    "from pyspark.sql import SQLContext\n",
    "\n",
    "sqlContext = SQLContext(sc) \n",
    "spark_dff=sqlContext.createDataFrame(df)\n"
   ]
  },
  {
   "cell_type": "markdown",
   "metadata": {},
   "source": [
    "### Prepocessing of data\n",
    "As seen above, We receive a lot of information like user, user location, tweet date etc from twitter api. However, for classification of the tweet we only need the text column of the tweet. We separate the text part and  further process the data to get rid of unwanted words or stop words in the tweet. Finally, we extract a set of meaningful words that are essential for the classification. "
   ]
  },
  {
   "cell_type": "markdown",
   "metadata": {},
   "source": [
    "The below code takes each tweet and separates every word in sentence and then stores the words in a list. 5 tweets are displayed for sample"
   ]
  },
  {
   "cell_type": "code",
   "execution_count": 44,
   "metadata": {},
   "outputs": [
    {
     "name": "stdout",
     "output_type": "stream",
     "text": [
      "+--------------------------------------------------------------------------------------------------------------------------------------------+--------------------+-------------------+--------------+------------------------+-------------+---------+--------+-------------------+---------------------------------------------------------------------------------------------------------------------------------------------------------------------+\n",
      "|Tweets                                                                                                                                      |User                |User_statuses_count|user_followers|User_location           |User_verified|fav_count|rt_count|tweet_date         |SeWords                                                                                                                                                              |\n",
      "+--------------------------------------------------------------------------------------------------------------------------------------------+--------------------+-------------------+--------------+------------------------+-------------+---------+--------+-------------------+---------------------------------------------------------------------------------------------------------------------------------------------------------------------+\n",
      "|RT @strongblacklead: Welcome to the beginning of another week, y’all! 😂 https://t.co/0ZTMHMrULX                                            |Netflix             |38633              |11692568      |California, USA         |true         |0        |30      |2021-05-03 17:36:42|[rt, @strongblacklead:, welcome, to, the, beginning, of, another, week,, y’all!, 😂, https://t.co/0ztmhmrulx]                                                        |\n",
      "|Tune in as the First Lady and I discuss the American Families Plan at Tidewater Community College. https://t.co/cUdNDi2DqY                  |President Biden     |645                |10552082      |                        |true         |2137     |384     |2021-05-03 17:18:58|[tune, in, as, the, first, lady, and, i, discuss, the, american, families, plan, at, tidewater, community, college., https://t.co/cudndi2dqy]                        |\n",
      "|Happening Now: The President and First Lady deliver remarks at Tidewater Community College. https://t.co/JG6hAJIFPz                         |The White House     |916                |5216884       |United States of America|true         |1671     |347     |2021-05-03 17:16:36|[happening, now:, the, president, and, first, lady, deliver, remarks, at, tidewater, community, college., https://t.co/jg6hajifpz]                                   |\n",
      "|The Marvel family is saddened to hear of the passing of artist John Paul Leon. His bold and iconic style made him a… https://t.co/M8VKMGo1NM|Marvel Entertainment|57962              |11167843      |New York, NY            |true         |2268     |285     |2021-05-03 17:13:45|[the, marvel, family, is, saddened, to, hear, of, the, passing, of, artist, john, paul, leon., his, bold, and, iconic, style, made, him, a…, https://t.co/m8vkmgo1nm]|\n",
      "|It turns out that the people like the For The People Act. \n",
      "\n",
      "https://t.co/UaH9dqdmNz                                                         |Hillary Clinton     |12674              |30985420      |New York, NY            |true         |1733     |354     |2021-05-03 16:55:39|[it, turns, out, that, the, people, like, the, for, the, people, act., , , https://t.co/uah9dqdmnz]                                                                  |\n",
      "+--------------------------------------------------------------------------------------------------------------------------------------------+--------------------+-------------------+--------------+------------------------+-------------+---------+--------+-------------------+---------------------------------------------------------------------------------------------------------------------------------------------------------------------+\n",
      "only showing top 5 rows\n",
      "\n"
     ]
    }
   ],
   "source": [
    "tokenizer = Tokenizer(inputCol=\"Tweets\", outputCol=\"SeWords\")\n",
    "tokenizedTweet = tokenizer.transform(spark_dff)\n",
    "tokenizedTweet.show(truncate=False, n=5)"
   ]
  },
  {
   "cell_type": "markdown",
   "metadata": {},
   "source": [
    "we get rid of unwanted words such as 'i', 'the', 'you' etc that do not contribute to classifying the tweet. The useful words are retained and stored as MeaningfulWords "
   ]
  },
  {
   "cell_type": "code",
   "execution_count": 45,
   "metadata": {},
   "outputs": [
    {
     "name": "stdout",
     "output_type": "stream",
     "text": [
      "+--------------------------------------------------------------------------------------------------------------------------------------------+--------------------+-------------------+--------------+------------------------+-------------+---------+--------+-------------------+---------------------------------------------------------------------------------------------------------------------------------------------------------------------+----------------------------------------------------------------------------------------------------------------------------+\n",
      "|Tweets                                                                                                                                      |User                |User_statuses_count|user_followers|User_location           |User_verified|fav_count|rt_count|tweet_date         |SeWords                                                                                                                                                              |MeaningfulWords                                                                                                             |\n",
      "+--------------------------------------------------------------------------------------------------------------------------------------------+--------------------+-------------------+--------------+------------------------+-------------+---------+--------+-------------------+---------------------------------------------------------------------------------------------------------------------------------------------------------------------+----------------------------------------------------------------------------------------------------------------------------+\n",
      "|RT @strongblacklead: Welcome to the beginning of another week, y’all! 😂 https://t.co/0ZTMHMrULX                                            |Netflix             |38633              |11692568      |California, USA         |true         |0        |30      |2021-05-03 17:36:42|[rt, @strongblacklead:, welcome, to, the, beginning, of, another, week,, y’all!, 😂, https://t.co/0ztmhmrulx]                                                        |[rt, @strongblacklead:, welcome, beginning, another, week,, y’all!, 😂, https://t.co/0ztmhmrulx]                            |\n",
      "|Tune in as the First Lady and I discuss the American Families Plan at Tidewater Community College. https://t.co/cUdNDi2DqY                  |President Biden     |645                |10552082      |                        |true         |2137     |384     |2021-05-03 17:18:58|[tune, in, as, the, first, lady, and, i, discuss, the, american, families, plan, at, tidewater, community, college., https://t.co/cudndi2dqy]                        |[tune, first, lady, discuss, american, families, plan, tidewater, community, college., https://t.co/cudndi2dqy]             |\n",
      "|Happening Now: The President and First Lady deliver remarks at Tidewater Community College. https://t.co/JG6hAJIFPz                         |The White House     |916                |5216884       |United States of America|true         |1671     |347     |2021-05-03 17:16:36|[happening, now:, the, president, and, first, lady, deliver, remarks, at, tidewater, community, college., https://t.co/jg6hajifpz]                                   |[happening, now:, president, first, lady, deliver, remarks, tidewater, community, college., https://t.co/jg6hajifpz]        |\n",
      "|The Marvel family is saddened to hear of the passing of artist John Paul Leon. His bold and iconic style made him a… https://t.co/M8VKMGo1NM|Marvel Entertainment|57962              |11167843      |New York, NY            |true         |2268     |285     |2021-05-03 17:13:45|[the, marvel, family, is, saddened, to, hear, of, the, passing, of, artist, john, paul, leon., his, bold, and, iconic, style, made, him, a…, https://t.co/m8vkmgo1nm]|[marvel, family, saddened, hear, passing, artist, john, paul, leon., bold, iconic, style, made, a…, https://t.co/m8vkmgo1nm]|\n",
      "|It turns out that the people like the For The People Act. \n",
      "\n",
      "https://t.co/UaH9dqdmNz                                                         |Hillary Clinton     |12674              |30985420      |New York, NY            |true         |1733     |354     |2021-05-03 16:55:39|[it, turns, out, that, the, people, like, the, for, the, people, act., , , https://t.co/uah9dqdmnz]                                                                  |[turns, people, like, people, act., , , https://t.co/uah9dqdmnz]                                                            |\n",
      "+--------------------------------------------------------------------------------------------------------------------------------------------+--------------------+-------------------+--------------+------------------------+-------------+---------+--------+-------------------+---------------------------------------------------------------------------------------------------------------------------------------------------------------------+----------------------------------------------------------------------------------------------------------------------------+\n",
      "only showing top 5 rows\n",
      "\n"
     ]
    }
   ],
   "source": [
    "swr = StopWordsRemover(inputCol=tokenizer.getOutputCol(), \n",
    "                       outputCol=\"MeaningfulWords\")\n",
    "SwRemovedTweet = swr.transform(tokenizedTweet)\n",
    "SwRemovedTweet.show(truncate=False, n=5)"
   ]
  },
  {
   "cell_type": "markdown",
   "metadata": {},
   "source": [
    "Numerical features are created from Meaningful words using code below. HashingTF funtion using Austin Appleby's MurmurHash 3 algorithm is implemented. Sample output of top 3 rows are displayed after implementing the code."
   ]
  },
  {
   "cell_type": "code",
   "execution_count": 46,
   "metadata": {},
   "outputs": [
    {
     "name": "stdout",
     "output_type": "stream",
     "text": [
      "+--------------------------------------------------------------------------------------------------------------------+----------------------------------------------------------------------------------------------------------------------------------+\n",
      "|MeaningfulWords                                                                                                     |features                                                                                                                          |\n",
      "+--------------------------------------------------------------------------------------------------------------------+----------------------------------------------------------------------------------------------------------------------------------+\n",
      "|[rt, @strongblacklead:, welcome, beginning, another, week,, y’all!, 😂, https://t.co/0ztmhmrulx]                    |(262144,[7558,18552,81213,83805,96725,109818,190108,193347,248305],[1.0,1.0,1.0,1.0,1.0,1.0,1.0,1.0,1.0])                         |\n",
      "|[tune, first, lady, discuss, american, families, plan, tidewater, community, college., https://t.co/cudndi2dqy]     |(262144,[43949,49129,55786,82111,93376,133454,138836,193495,232427,237407,251358],[1.0,1.0,1.0,1.0,1.0,1.0,1.0,1.0,1.0,1.0,1.0])  |\n",
      "|[happening, now:, president, first, lady, deliver, remarks, tidewater, community, college., https://t.co/jg6hajifpz]|(262144,[49129,55786,82111,105910,119904,124361,132838,193411,237407,251358,251462],[1.0,1.0,1.0,1.0,1.0,1.0,1.0,1.0,1.0,1.0,1.0])|\n",
      "+--------------------------------------------------------------------------------------------------------------------+----------------------------------------------------------------------------------------------------------------------------------+\n",
      "only showing top 3 rows\n",
      "\n"
     ]
    }
   ],
   "source": [
    "hashTF = HashingTF(inputCol=swr.getOutputCol(), outputCol=\"features\")\n",
    "numericTweetData = hashTF.transform(SwRemovedTweet).select(\n",
    "    'MeaningfulWords', 'features')\n",
    "numericTweetData.show(truncate=False, n=3)"
   ]
  },
  {
   "cell_type": "markdown",
   "metadata": {},
   "source": [
    "### Running the model\n",
    "The model built in part1 is used to classify the stream of tweets. Model is first loaded and is saved as 'loadedModel'. Then meaningful words obtained above is passed and the model predicts the polarity of the tweets. Sample of top 5 rows of Meaningful words and the predicted class has been displayed below."
   ]
  },
  {
   "cell_type": "code",
   "execution_count": 48,
   "metadata": {},
   "outputs": [],
   "source": [
    "import sys\n",
    "import os\n",
    "from pyspark.ml.classification import LogisticRegressionModel\n",
    "loadedModel =LogisticRegressionModel.load(\"comodel\")"
   ]
  },
  {
   "cell_type": "code",
   "execution_count": 49,
   "metadata": {},
   "outputs": [
    {
     "name": "stdout",
     "output_type": "stream",
     "text": [
      "+----------------------------------------------------------------------------------------------------------------------------+----------+\n",
      "|MeaningfulWords                                                                                                             |prediction|\n",
      "+----------------------------------------------------------------------------------------------------------------------------+----------+\n",
      "|[rt, @strongblacklead:, welcome, beginning, another, week,, y’all!, 😂, https://t.co/0ztmhmrulx]                            |4.0       |\n",
      "|[tune, first, lady, discuss, american, families, plan, tidewater, community, college., https://t.co/cudndi2dqy]             |4.0       |\n",
      "|[happening, now:, president, first, lady, deliver, remarks, tidewater, community, college., https://t.co/jg6hajifpz]        |0.0       |\n",
      "|[marvel, family, saddened, hear, passing, artist, john, paul, leon., bold, iconic, style, made, a…, https://t.co/m8vkmgo1nm]|0.0       |\n",
      "|[turns, people, like, people, act., , , https://t.co/uah9dqdmnz]                                                            |0.0       |\n",
      "+----------------------------------------------------------------------------------------------------------------------------+----------+\n",
      "only showing top 5 rows\n",
      "\n"
     ]
    }
   ],
   "source": [
    "predictionagain = loadedModel.transform(numericTweetData)\n",
    "predictionFinalagain = predictionagain.select('MeaningfulWords', 'prediction')\n",
    "predictionFinalagain.show(n=5, truncate = False)"
   ]
  },
  {
   "cell_type": "markdown",
   "metadata": {},
   "source": [
    "<b>Spark dataframe is converted to pandas dataframe. Moreover, the MeaningfulWords field is of dtype- object. We are changing it to 'string' format to make it easier to save to database. "
   ]
  },
  {
   "cell_type": "code",
   "execution_count": 50,
   "metadata": {},
   "outputs": [
    {
     "name": "stdout",
     "output_type": "stream",
     "text": [
      "<class 'pandas.core.frame.DataFrame'>\n",
      "RangeIndex: 15 entries, 0 to 14\n",
      "Data columns (total 2 columns):\n",
      "MeaningfulWords    15 non-null object\n",
      "prediction         15 non-null float64\n",
      "dtypes: float64(1), object(1)\n",
      "memory usage: 312.0+ bytes\n"
     ]
    }
   ],
   "source": [
    "pandasDF = predictionFinalagain.toPandas()\n",
    "pandasDF['MeaningfulWords'] = pandasDF['MeaningfulWords'].astype(\"|S\") \n",
    "pandasDF.info()"
   ]
  },
  {
   "cell_type": "markdown",
   "metadata": {},
   "source": [
    "### Part 3\n",
    "### Storing the output in Database\n",
    "\n",
    "The output obtained is stored in sql database. The connection to the database is established and db transaction is performed using pyodbc package. For loop is used to iterate through each row of dataframe and add them to the database by row. The name of the columns in the database are \n",
    "Tweets - consists of the extracted meaningful words \n",
    "Polarity - consists of the target class value."
   ]
  },
  {
   "cell_type": "code",
   "execution_count": 65,
   "metadata": {},
   "outputs": [],
   "source": [
    "import pyodbc\n"
   ]
  },
  {
   "cell_type": "code",
   "execution_count": 66,
   "metadata": {},
   "outputs": [],
   "source": [
    "#connect to database\n",
    "conn = pyodbc.connect('DRIVER=ODBC Driver 17 for SQL Server;SERVER=LAPTOP-SAMU,1433;DATABASE=TwitterDataDB;Trusted_Connection=yes;')\n",
    "cursor = conn.cursor()\n",
    "cursor.execute(\"Create Table TwitterData(Tweets text, Polarity float)\")\n",
    "for index, row in pandasDF.iterrows():\n",
    "    cursor.execute(\"INSERT INTO TwitterDataDB.dbo.TwitterData(Tweets, Polarity) values(?,?)\", row.MeaningfulWords, row.prediction)\n"
   ]
  },
  {
   "cell_type": "code",
   "execution_count": 67,
   "metadata": {},
   "outputs": [],
   "source": [
    "conn.commit()"
   ]
  },
  {
   "cell_type": "markdown",
   "metadata": {},
   "source": [
    "Following is the screenshot of the output stored in the database\n",
    "\n",
    "![sql_output_big_data.JPG](sql_output_big_data.JPG \"sql_output_big_data\")"
   ]
  },
  {
   "cell_type": "markdown",
   "metadata": {},
   "source": [
    "References \n",
    "\n",
    "[1] https://docs.tweepy.org/en/v3.7.0/getting_started.html\n",
    "\n",
    "[2] https://datatofish.com/how-to-connect-python-to-sql-server-using-pyodbc/"
   ]
  }
 ],
 "metadata": {
  "kernelspec": {
   "display_name": "Python 2",
   "language": "python",
   "name": "python2"
  },
  "language_info": {
   "codemirror_mode": {
    "name": "ipython",
    "version": 2
   },
   "file_extension": ".py",
   "mimetype": "text/x-python",
   "name": "python",
   "nbconvert_exporter": "python",
   "pygments_lexer": "ipython2",
   "version": "2.7.16"
  }
 },
 "nbformat": 4,
 "nbformat_minor": 2
}
